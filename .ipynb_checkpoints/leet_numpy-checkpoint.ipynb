{
 "cells": [
  {
   "cell_type": "markdown",
   "metadata": {},
   "source": [
    "## 695. 岛屿的最大面积\n",
    "给定一个包含了一些 0 和 1的非空二维数组 grid , 一个 岛屿 是由四个方向 (水平或垂直) 的 1 (代表土地) 构成的组合。你可以假设二维矩阵的四个边缘都被水包围着。\n",
    "\n",
    "找到给定的二维数组中最大的岛屿面积。(如果没有岛屿，则返回面积为0。)\n",
    "\n",
    "__示例 1:__\n",
    "```\n",
    "[[0,0,1,0,0,0,0,1,0,0,0,0,0],\n",
    " [0,0,0,0,0,0,0,1,1,1,0,0,0],\n",
    " [0,1,1,0,1,0,0,0,0,0,0,0,0],\n",
    " [0,1,0,0,1,1,0,0,1,0,1,0,0],\n",
    " [0,1,0,0,1,1,0,0,1,1,1,0,0],\n",
    " [0,0,0,0,0,0,0,0,0,0,1,0,0],\n",
    " [0,0,0,0,0,0,0,1,1,1,0,0,0],\n",
    " [0,0,0,0,0,0,0,1,1,0,0,0,0]]\n",
    "```"
   ]
  },
  {
   "cell_type": "markdown",
   "metadata": {},
   "source": [
    " ### 我的 深度优先？"
   ]
  },
  {
   "cell_type": "code",
   "execution_count": 9,
   "metadata": {},
   "outputs": [
    {
     "name": "stdout",
     "output_type": "stream",
     "text": [
      "6\n"
     ]
    }
   ],
   "source": [
    "def maxAreaOfIsland(grid):\n",
    "    length = len(grid)\n",
    "    width = len(grid[0])\n",
    "    maxcount = 0\n",
    "    for i in range(length):\n",
    "        for j in range(width):\n",
    "            count = dfs(grid, i, j, 0)\n",
    "            if(count>maxcount):\n",
    "                maxcount = count\n",
    "    print(maxcount)\n",
    "    \n",
    "def dfs(grid, i, j, count):\n",
    "    if(grid[i][j] == 0):\n",
    "        return count\n",
    "    if(grid[i][j] == 1):\n",
    "        grid[i][j] = 0\n",
    "        count += 1\n",
    "        if(i != 0):\n",
    "            count = dfs(grid, i-1, j, count)\n",
    "        if(j != 0):\n",
    "            count = dfs(grid, i, j-1, count)\n",
    "        if(i != len(grid)-1):\n",
    "            count = dfs(grid, i+1, j, count)\n",
    "        if(j != len(grid[0])-1):\n",
    "            count = dfs(grid, i, j+1, count)\n",
    "        return count\n",
    "\n",
    "        \n",
    "        \n",
    "\n",
    "grid = [[0,0,1,0,0,0,0,1,0,0,0,0,0],\n",
    "        [0,0,0,0,0,0,0,1,1,1,0,0,0],\n",
    "        [0,1,1,0,1,0,0,0,0,0,0,0,0],\n",
    "        [0,1,0,0,1,1,0,0,1,0,1,0,0],\n",
    "        [0,1,0,0,1,1,0,0,1,1,1,0,0],\n",
    "        [0,0,0,0,0,0,0,0,0,0,1,0,0],\n",
    "        [0,0,0,0,0,0,0,1,1,1,0,0,0],\n",
    "        [0,0,0,0,0,0,0,1,1,0,0,0,0]]\n",
    "maxAreaOfIsland(grid)"
   ]
  },
  {
   "cell_type": "markdown",
   "metadata": {},
   "source": [
    "### leetcode别人的 \n",
    "基本一样，判断时可以用max函数减少时间，主要使用深度优先算法"
   ]
  },
  {
   "cell_type": "code",
   "execution_count": null,
   "metadata": {},
   "outputs": [],
   "source": [
    "def maxAreaOfIsland(self, grid):\n",
    "        \"\"\"\n",
    "        :type grid: List[List[int]]\n",
    "        :rtype: int\n",
    "        \"\"\"\n",
    "        def dfs(line, column):\n",
    "            grid[line][column] = 0\n",
    "            result = 1\n",
    "            if line>0:\n",
    "                if grid[line-1][column]:\n",
    "                    result+=dfs(line-1, column)\n",
    "            if line<len(grid)-1:\n",
    "                if grid[line+1][column]:\n",
    "                    result+=dfs(line+1, column)\n",
    "            if column>0:\n",
    "                if grid[line][column-1]:\n",
    "                    result+=dfs(line, column-1)\n",
    "            if column<len(grid[line])-1:\n",
    "                if grid[line][column+1]:\n",
    "                    result+=dfs(line, column+1)\n",
    "            return result\n",
    "        result = 0\n",
    "        for line in range(len(grid)):\n",
    "            for column in range(len(grid[line])):\n",
    "                if grid[line][column]:\n",
    "                    result = max(result,dfs(line, column))\n",
    "        return result"
   ]
  }
 ],
 "metadata": {
  "kernelspec": {
   "display_name": "Python 3",
   "language": "python",
   "name": "python3"
  },
  "language_info": {
   "codemirror_mode": {
    "name": "ipython",
    "version": 3
   },
   "file_extension": ".py",
   "mimetype": "text/x-python",
   "name": "python",
   "nbconvert_exporter": "python",
   "pygments_lexer": "ipython3",
   "version": "3.6.5"
  }
 },
 "nbformat": 4,
 "nbformat_minor": 2
}
