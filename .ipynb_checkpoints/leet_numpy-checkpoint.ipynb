{
 "cells": [
  {
   "cell_type": "markdown",
   "metadata": {},
   "source": [
    "## 695. 岛屿的最大面积\n",
    "给定一个包含了一些 0 和 1的非空二维数组 grid , 一个 岛屿 是由四个方向 (水平或垂直) 的 1 (代表土地) 构成的组合。你可以假设二维矩阵的四个边缘都被水包围着。\n",
    "\n",
    "找到给定的二维数组中最大的岛屿面积。(如果没有岛屿，则返回面积为0。)\n",
    "\n",
    "__示例 1:__\n",
    "```\n",
    "[[0,0,1,0,0,0,0,1,0,0,0,0,0],\n",
    " [0,0,0,0,0,0,0,1,1,1,0,0,0],\n",
    " [0,1,1,0,1,0,0,0,0,0,0,0,0],\n",
    " [0,1,0,0,1,1,0,0,1,0,1,0,0],\n",
    " [0,1,0,0,1,1,0,0,1,1,1,0,0],\n",
    " [0,0,0,0,0,0,0,0,0,0,1,0,0],\n",
    " [0,0,0,0,0,0,0,1,1,1,0,0,0],\n",
    " [0,0,0,0,0,0,0,1,1,0,0,0,0]]\n",
    "```"
   ]
  },
  {
   "cell_type": "markdown",
   "metadata": {},
   "source": [
    " ### 我的 深度优先？"
   ]
  },
  {
   "cell_type": "code",
   "execution_count": 9,
   "metadata": {},
   "outputs": [
    {
     "name": "stdout",
     "output_type": "stream",
     "text": [
      "6\n"
     ]
    }
   ],
   "source": [
    "def maxAreaOfIsland(grid):\n",
    "    maxcount = 0\n",
    "    for i in range(len()):\n",
    "        for j in range(width):\n",
    "            count = dfs(grid, i, j, 0)\n",
    "            if(count>maxcount):\n",
    "                maxcount = count\n",
    "    print(maxcount)\n",
    "    \n",
    "def dfs(grid, i, j, count):\n",
    "    if(grid[i][j] == 0):\n",
    "        return count\n",
    "    if(grid[i][j] == 1):\n",
    "        grid[i][j] = 0\n",
    "        count += 1\n",
    "        if(i != 0):\n",
    "            count = dfs(grid, i-1, j, count)\n",
    "        if(j != 0):\n",
    "            count = dfs(grid, i, j-1, count)\n",
    "        if(i != len(grid)-1):\n",
    "            count = dfs(grid, i+1, j, count)\n",
    "        if(j != len(grid[0])-1):\n",
    "            count = dfs(grid, i, j+1, count)\n",
    "        return count\n",
    "\n",
    "        \n",
    "        \n",
    "\n",
    "grid = [[0,0,1,0,0,0,0,1,0,0,0,0,0],\n",
    "        [0,0,0,0,0,0,0,1,1,1,0,0,0],\n",
    "        [0,1,1,0,1,0,0,0,0,0,0,0,0],\n",
    "        [0,1,0,0,1,1,0,0,1,0,1,0,0],\n",
    "        [0,1,0,0,1,1,0,0,1,1,1,0,0],\n",
    "        [0,0,0,0,0,0,0,0,0,0,1,0,0],\n",
    "        [0,0,0,0,0,0,0,1,1,1,0,0,0],\n",
    "        [0,0,0,0,0,0,0,1,1,0,0,0,0]]\n",
    "maxAreaOfIsland(grid)"
   ]
  },
  {
   "cell_type": "markdown",
   "metadata": {},
   "source": [
    "### leetcode别人的 \n",
    "基本一样，判断时可以用max函数减少时间，主要使用深度优先算法"
   ]
  },
  {
   "cell_type": "code",
   "execution_count": null,
   "metadata": {},
   "outputs": [],
   "source": [
    "def maxAreaOfIsland(self, grid):\n",
    "        \"\"\"\n",
    "        :type grid: List[List[int]]\n",
    "        :rtype: int\n",
    "        \"\"\"\n",
    "        def dfs(line, column):\n",
    "            grid[line][column] = 0\n",
    "            result = 1\n",
    "            if line>0:\n",
    "                if grid[line-1][column]:\n",
    "                    result+=dfs(line-1, column)\n",
    "            if line<len(grid)-1:\n",
    "                if grid[line+1][column]:\n",
    "                    result+=dfs(line+1, column)\n",
    "            if column>0:\n",
    "                if grid[line][column-1]:\n",
    "                    result+=dfs(line, column-1)\n",
    "            if column<len(grid[line])-1:\n",
    "                if grid[line][column+1]:\n",
    "                    result+=dfs(line, column+1)\n",
    "            return result\n",
    "        result = 0\n",
    "        for line in range(len(grid)):\n",
    "            for column in range(len(grid[line])):\n",
    "                if grid[line][column]:\n",
    "                    result = max(result,dfs(line, column))\n",
    "        return result"
   ]
  },
  {
   "cell_type": "markdown",
   "metadata": {},
   "source": [
    "## 118. 杨辉三角\n",
    "给定一个非负整数 numRows，生成杨辉三角的前 numRows 行。  \n",
    "\n",
    "![](https://upload.wikimedia.org/wikipedia/commons/0/0d/PascalTriangleAnimated2.gif) \n",
    " \n",
    "\n",
    "在杨辉三角中，每个数是它左上方和右上方的数的和。  \n",
    "__示例：__\n",
    "```\n",
    "输入: 5\n",
    "输出:\n",
    "[\n",
    "     [1],\n",
    "    [1,1],\n",
    "   [1,2,1],\n",
    "  [1,3,3,1],\n",
    " [1,4,6,4,1]\n",
    "]\n",
    "```"
   ]
  },
  {
   "cell_type": "code",
   "execution_count": 6,
   "metadata": {},
   "outputs": [
    {
     "name": "stdout",
     "output_type": "stream",
     "text": [
      "[[1], [1, 1], [1, 2, 1], [1, 3, 3, 1], [1, 4, 6, 4, 1]]\n"
     ]
    }
   ],
   "source": [
    "def generate(numRows):\n",
    "    \"\"\"\n",
    "    :type numRows: int\n",
    "    :rtype: List[List[int]]\n",
    "    \"\"\"\n",
    "    list = [[] for i in range(numRows)]\n",
    "    for i in range(numRows):\n",
    "        for j in range(i+1):\n",
    "            if(j == 0 or j == i):\n",
    "                list[i].append(1)\n",
    "            else:\n",
    "                list[i].append(list[i-1][j-1]+list[i-1][j])\n",
    "    print(list)\n",
    "\n",
    "generate(5)"
   ]
  },
  {
   "cell_type": "markdown",
   "metadata": {},
   "source": [
    "## 118. 杨辉三角 II\n",
    "给定一个非负整数 numRows，生成杨辉三角的第 numRows 行。  \n",
    "\n",
    "![](https://upload.wikimedia.org/wikipedia/commons/0/0d/PascalTriangleAnimated2.gif) \n",
    " \n",
    "\n",
    "在杨辉三角中，每个数是它左上方和右上方的数的和。  \n",
    "__示例：__\n",
    "```\n",
    "输入: 3\n",
    "输出: [1,3,3,1]\n",
    "```\n",
    "\n",
    "__要求空间复杂度为O(x)__"
   ]
  },
  {
   "cell_type": "code",
   "execution_count": 20,
   "metadata": {},
   "outputs": [
    {
     "name": "stdout",
     "output_type": "stream",
     "text": [
      "[1, 3, 3, 1]\n"
     ]
    }
   ],
   "source": [
    "def getRow(rowIndex):\n",
    "    \"\"\"\n",
    "    :type rowIndex: int\n",
    "    :rtype: List[int]\n",
    "    \"\"\"\n",
    "    list = [1, 1]\n",
    "    if rowIndex == 0:\n",
    "        return [1]\n",
    "    elif rowIndex == 1:\n",
    "        return list\n",
    "    else:\n",
    "        for i in range(rowIndex):\n",
    "            for j in range(i):\n",
    "                if j == 0:\n",
    "                    list.insert(1, list[0]+list[1])\n",
    "                else:\n",
    "                    list[j+1] = list[j+1]+list[j+2]\n",
    "    return list\n",
    "\n",
    "print(getRow(3))\n"
   ]
  },
  {
   "cell_type": "markdown",
   "metadata": {},
   "source": [
    "## 169. 求众数\n",
    "给定一个大小为 n 的数组，找到其中的众数。众数是指在数组中出现次数大于 ⌊ n/2 ⌋ 的元素。\n",
    "\n",
    "你可以假设数组是非空的，并且给定的数组总是存在众数。\n",
    "\n",
    "__示例：__\n",
    "```\n",
    "输入: [2,2,1,1,1,2,2]\n",
    "输出: 2\n",
    "```"
   ]
  },
  {
   "cell_type": "code",
   "execution_count": 30,
   "metadata": {},
   "outputs": [
    {
     "data": {
      "text/plain": [
       "2"
      ]
     },
     "execution_count": 30,
     "metadata": {},
     "output_type": "execute_result"
    }
   ],
   "source": [
    "def majorityElement(nums):\n",
    "    \"\"\"\n",
    "    :type nums: List[int]\n",
    "    :rtype: int\n",
    "    \"\"\"\n",
    "    dist = {}\n",
    "    for num in nums:\n",
    "        if (num in dist.keys()) == False:\n",
    "            dist[num] = 1\n",
    "        else:\n",
    "            dist[num] += 1\n",
    "    for i in dist:\n",
    "        if dist[i]>len(nums)/2:\n",
    "            return i\n",
    "nums = [2,2,1,2,1,2,2]\n",
    "majorityElement(nums)"
   ]
  },
  {
   "cell_type": "markdown",
   "metadata": {},
   "source": [
    "## 121. 买卖股票的最佳时机 I\n",
    "给定一个数组，它的第 i 个元素是一支给定股票第 i 天的价格。\n",
    "\n",
    "如果你最多只允许完成一笔交易（即买入和卖出一支股票），设计一个算法来计算你所能获取的最大利润。\n",
    "\n",
    "__注意__你不能在买入股票前卖出股票。\n",
    "\n",
    "__示例1：__\n",
    "```\n",
    "输入: [7,1,5,3,6,4]\n",
    "输出: 5\n",
    "解释: 在第 2 天（股票价格 = 1）的时候买入，在第 5 天（股票价格 = 6）的时候卖出，最大利润 = 6-1 = 5 。\n",
    "     注意利润不能是 7-1 = 6, 因为卖出价格需要大于买入价格。\n",
    "```"
   ]
  },
  {
   "cell_type": "code",
   "execution_count": 42,
   "metadata": {},
   "outputs": [
    {
     "name": "stdout",
     "output_type": "stream",
     "text": [
      "3 1\n",
      "None\n"
     ]
    }
   ],
   "source": [
    "def maxProfit(prices):\n",
    "    \"\"\"\n",
    "    :type prices: List[int]\n",
    "    :rtype: int\n",
    "    \"\"\"\n",
    "    min_price = prices[0]\n",
    "    max_profit = 0\n",
    "    for i in prices[1:]:\n",
    "        if i<min_price:\n",
    "            min_price=i\n",
    "        else:\n",
    "            if (i-min_price)>max_profit:\n",
    "                max_profit = i - min_price\n",
    "    print(max_profit,min_price)\n",
    "        \n",
    "prices = [1,4,1,4,3,1]\n",
    "print(maxProfit(prices))"
   ]
  },
  {
   "cell_type": "code",
   "execution_count": null,
   "metadata": {},
   "outputs": [],
   "source": [
    "class Solution:\n",
    "    def maxProfit(self, prices):\n",
    "        \"\"\"\n",
    "        :type prices: List[int]\n",
    "        :rtype: int\n",
    "        \"\"\"\n",
    "        diff=[prices[i+1]-prices[i] for i in range(len(prices)-1)]\n",
    "        maxSum=0\n",
    "        Sum=0\n",
    "        for num in diff:\n",
    "            Sum+=num\n",
    "            if Sum>maxSum:\n",
    "                maxSum=Sum\n",
    "            if Sum<0:\n",
    "                Sum=0\n",
    "        return maxSum"
   ]
  },
  {
   "cell_type": "markdown",
   "metadata": {},
   "source": [
    "## 122. 买卖股票的最佳时机 II\n",
    "给定一个数组，它的第 i 个元素是一支给定股票第 i 天的价格。\n",
    "\n",
    "设计一个算法来计算你所能获取的最大利润。你可以尽可能地完成更多的交易（多次买卖一支股票）。\n",
    "\n",
    "__注意__：你不能同时参与多笔交易（你必须在再次购买前出售掉之前的股票）。  \n",
    "__示例1：__\n",
    "```\n",
    "输入: [7,1,5,3,6,4]\n",
    "输出: 7\n",
    "解释: 在第 2 天（股票价格 = 1）的时候买入，在第 3 天（股票价格 = 5）的时候卖出, 这笔交易所能获得利润 = 5-1 = 4 。\n",
    "     随后，在第 4 天（股票价格 = 3）的时候买入，在第 5 天（股票价格 = 6）的时候卖出, 这笔交易所能获得利润 = 6-3 = 3 。\n",
    "```\n",
    "__示例2：__\n",
    "```\n",
    "输入: [1,2,3,4,5]\n",
    "输出: 4\n",
    "解释: 在第 1 天（股票价格 = 1）的时候买入，在第 5 天 （股票价格 = 5）的时候卖出, 这笔交易所能获得利润 = 5-1 = 4 。\n",
    "     注意你不能在第 1 天和第 2 天接连购买股票，之后再将它们卖出。\n",
    "     因为这样属于同时参与了多笔交易，你必须在再次购买前出售掉之前的股票。\n",
    "```\n",
    "__示例3：__\n",
    "```\n",
    "输入: [7,6,4,3,1]\n",
    "输出: 0\n",
    "解释: 在这种情况下, 没有交易完成, 所以最大利润为 0。\n",
    "```"
   ]
  },
  {
   "cell_type": "code",
   "execution_count": 34,
   "metadata": {},
   "outputs": [
    {
     "name": "stdout",
     "output_type": "stream",
     "text": [
      "0\n"
     ]
    }
   ],
   "source": [
    "def maxProfit(prices):\n",
    "    \"\"\"\n",
    "    :type prices: List[int]\n",
    "    :rtype: int\n",
    "    \"\"\"\n",
    "    profit = 0\n",
    "    for i in range(len(prices)-1):\n",
    "        if prices[i]<prices[i+1]:\n",
    "            profit += prices[i+1]-prices[i]\n",
    "    print(profit)\n",
    "    \n",
    "nums = [7,6,4,3,1]\n",
    "maxProfit(nums)"
   ]
  },
  {
   "cell_type": "markdown",
   "metadata": {},
   "source": [
    "## 平滑滤波器"
   ]
  },
  {
   "cell_type": "code",
   "execution_count": null,
   "metadata": {},
   "outputs": [],
   "source": [
    "def imageSmoother(M):\n",
    "    \"\"\"\n",
    "    :type M: List[List[int]]\n",
    "    :rtype: List[List[int]]\n",
    "    \"\"\"\n",
    "    for i in range(M):\n",
    "        for j in range(M[0]):\n",
    "            if i==0 and j==0:\n",
    "                #判断边缘，不写了\n",
    "    \n",
    "image = [[1,1,1],\n",
    "         [1,0,1],\n",
    "         [1,1,1]]\n",
    "print(imageSmoother(image))"
   ]
  },
  {
   "cell_type": "markdown",
   "metadata": {},
   "source": [
    "## 11. 盛最多水的容器\n",
    "给定 n 个非负整数 a1，a2，...，an，每个数代表坐标中的一个点 (i, ai) 。画 n 条垂直线，使得垂直线 i 的两个端点分别为 (i, ai) 和 (i, 0)。找出其中的两条线，使得它们与 x 轴共同构成的容器可以容纳最多的水。\n",
    "\n",
    "注意：你不能倾斜容器，n 至少是2。"
   ]
  },
  {
   "cell_type": "code",
   "execution_count": 46,
   "metadata": {},
   "outputs": [
    {
     "name": "stdout",
     "output_type": "stream",
     "text": [
      "16\n"
     ]
    }
   ],
   "source": [
    "def maxArea(height):\n",
    "    \"\"\"\n",
    "    :type height: List[int]\n",
    "    :rtype: int\n",
    "    \"\"\"\n",
    "    i = 0\n",
    "    j = len(height)-1\n",
    "    max_cloumn = 0\n",
    "    while (j-i)>=1:\n",
    "        area = (j-i)*height[i] if height[i]<height[j] else (j-i)*height[j]\n",
    "        if area>max_cloumn:\n",
    "            max_cloumn = area \n",
    "        if height[j]>height[i]:\n",
    "            i += 1\n",
    "        else:\n",
    "            j -= 1\n",
    "    return max_cloumn\n",
    "\n",
    "height = [2, 4, 1, 6, 8, 5]\n",
    "print(maxArea(height))"
   ]
  },
  {
   "cell_type": "markdown",
   "metadata": {},
   "source": [
    "## 448. 找到所有数组中消失的数字\n",
    "给定一个范围在  1 ≤ a[i] ≤ n ( n = 数组大小 ) 的 整型数组，数组中的元素一些出现了两次，另一些只出现一次。\n",
    "\n",
    "找到所有在 [1, n] 范围之间没有出现在数组中的数字。\n",
    "\n",
    "您能在不使用额外空间且时间复杂度为O(n)的情况下完成这个任务吗? 你可以假定返回的数组不算在额外空间内。  \n",
    "__示例:__  \n",
    "```\n",
    "输入:\n",
    "[4,3,2,7,8,2,3,1]\n",
    "\n",
    "输出:\n",
    "[5,6]\n",
    "```"
   ]
  },
  {
   "cell_type": "code",
   "execution_count": null,
   "metadata": {},
   "outputs": [],
   "source": [
    "class Solution:\n",
    "    def findDisappearedNumbers(self, nums):\n",
    "        \"\"\"\n",
    "        :type nums: List[int]\n",
    "        :rtype: List[int]\n",
    "        \"\"\"\n",
    "        res = []\n",
    "        for i in range(len(nums)):\n",
    "            index = abs(nums[i])-1\n",
    "            if nums[index]>0:\n",
    "                nums[index] = nums[index] * -1\n",
    "        for i in range(len(nums)):\n",
    "            if nums[i]>0:\n",
    "                res.append(i+1)\n",
    "        return res"
   ]
  },
  {
   "cell_type": "code",
   "execution_count": 50,
   "metadata": {},
   "outputs": [
    {
     "name": "stdout",
     "output_type": "stream",
     "text": [
      "[5, 6]\n"
     ]
    }
   ],
   "source": [
    "def findDisappearedNumbers(nums):\n",
    "    \"\"\"\n",
    "    :type nums: List[int]\n",
    "    :rtype: List[int]\n",
    "    \"\"\"\n",
    "    s = set(nums)\n",
    "    #set可以去重\n",
    "    return [i for i in range(1,len(nums)+1) if i not in s]\n",
    "nums = [4,3,2,7,8,2,3,1]\n",
    "print(findDisappearedNumbers(nums))"
   ]
  },
  {
   "cell_type": "markdown",
   "metadata": {},
   "source": [
    "## 811. 子域名访问计数\n",
    "一个网站域名，如\"discuss.leetcode.com\"，包含了多个子域名。作为顶级域名，常用的有\"com\"，下一级则有\"leetcode.com\"，最低的一级为\"discuss.leetcode.com\"。当我们访问域名\"discuss.leetcode.com\"时，也同时访问了其父域名\"leetcode.com\"以及顶级域名 \"com\"。\n",
    "\n",
    "给定一个带访问次数和域名的组合，要求分别计算每个域名被访问的次数。其格式为访问次数+空格+地址，例如：\"9001 discuss.leetcode.com\"。\n",
    "\n",
    "接下来会给出一组访问次数和域名组合的列表cpdomains 。要求解析出所有域名的访问次数，输出格式和输入格式相同，不限定先后顺序。\n",
    "```\n",
    "示例 2\n",
    "输入: \n",
    "[\"900 google.mail.com\", \"50 yahoo.com\", \"1 intel.mail.com\", \"5 wiki.org\"]\n",
    "输出: \n",
    "[\"901 mail.com\",\"50 yahoo.com\",\"900 google.mail.com\",\"5 wiki.org\",\"5 org\",\"1 intel.mail.com\",\"951 com\"]\n",
    "说明: \n",
    "按照假设，会访问\"google.mail.com\" 900次，\"yahoo.com\" 50次，\"intel.mail.com\" 1次，\"wiki.org\" 5次。\n",
    "而对于父域名，会访问\"mail.com\" 900+1 = 901次，\"com\" 900 + 50 + 1 = 951次，和 \"org\" 5 次。\n",
    "```"
   ]
  },
  {
   "cell_type": "code",
   "execution_count": 71,
   "metadata": {},
   "outputs": [
    {
     "data": {
      "text/plain": [
       "['951 com',\n",
       " '901 mail.com',\n",
       " '900 google.mail.com',\n",
       " '50 yahoo.com',\n",
       " '1 intel.mail.com',\n",
       " '5 org',\n",
       " '5 wiki.org']"
      ]
     },
     "execution_count": 71,
     "metadata": {},
     "output_type": "execute_result"
    }
   ],
   "source": [
    "def subdomainVisits(cpdomains):\n",
    "    \"\"\"\n",
    "    :type cpdomains: List[str]\n",
    "    :rtype: List[str]\n",
    "    \"\"\"\n",
    "    dic = {}\n",
    "    res = []\n",
    "    for string in cpdomains:\n",
    "        num, domain = string.split(' ')\n",
    "        sub_domains = domain.split('.')\n",
    "        strr = ''\n",
    "        for sub_domain in sub_domains[::-1]:\n",
    "            if strr == '':\n",
    "                strr = sub_domain\n",
    "            else:\n",
    "                strr = sub_domain + '.' + strr\n",
    "            if strr not in dic.keys():\n",
    "                dic[strr] = int(num)\n",
    "            else:\n",
    "                dic[strr] += int(num)\n",
    "    for key in dic:\n",
    "        strr = str(dic[key]) + ' ' + key\n",
    "        res.append(strr)\n",
    "    return res\n",
    "domains = [\"900 google.mail.com\", \"50 yahoo.com\", \"1 intel.mail.com\", \"5 wiki.org\"]\n",
    "subdomainVisits(domains)"
   ]
  },
  {
   "cell_type": "markdown",
   "metadata": {},
   "source": [
    "## 463. 岛屿的周长\n",
    "给定一个包含 0 和 1 的二维网格地图，其中 1 表示陆地 0 表示水域。网格中的格子水平和垂直方向相连（对角线方向不相连）。整个网格被水完全包围，但其中恰好有一个岛屿（或者说，一个或多个表示陆地的格子相连组成的岛屿）。岛屿中没有“湖”（“湖” 指水域在岛屿内部且不和岛屿周围的水相连）。格子是边长为 1 的正方形。网格为长方形，且宽度和高度均不超过 100 。计算这个岛屿的周长。\n",
    "\n",
    "__示例 :__\n",
    "```\n",
    "[[0,1,0,0],\n",
    " [1,1,1,0],\n",
    " [0,1,0,0],\n",
    " [1,1,0,0]]\n",
    "\n",
    "答案: 16\n",
    "解释: 它的周长是下面图片中的 16 个黄色的边：\n",
    "```\n",
    "![](https://leetcode-cn.com/static/images/problemset/island.png)"
   ]
  },
  {
   "cell_type": "code",
   "execution_count": 83,
   "metadata": {},
   "outputs": [
    {
     "name": "stdout",
     "output_type": "stream",
     "text": [
      "16\n"
     ]
    }
   ],
   "source": [
    "def islandPerimeter(grid):\n",
    "    \"\"\"\n",
    "    :type grid: List[List[int]]\n",
    "    :rtype: int\n",
    "    \"\"\"\n",
    "    length = len(grid)\n",
    "    row = len(grid[0])\n",
    "    count = 0\n",
    "    grid.insert(0, [0 for i in range(row+2)])\n",
    "    grid.append([0 for i in range(row+2)])\n",
    "    for i in range(1,legnth+1):\n",
    "        grid[i].insert(0, 0)\n",
    "        grid[i].append(0)\n",
    "    for i in range(1,length+1):\n",
    "        for j in range(1,row+1):\n",
    "            if grid[i][j] == 1:\n",
    "                count += 4\n",
    "                if grid[i][j-1] == 1:\n",
    "                    count -= 1\n",
    "                if grid[i][j+1] == 1:\n",
    "                    count -= 1\n",
    "                if grid[i-1][j] == 1:\n",
    "                    count -= 1\n",
    "                if grid[i+1][j] == 1:\n",
    "                    count -= 1\n",
    "    print(count)\n",
    "grid = [[0,1,0,0],\n",
    "        [1,1,1,0],\n",
    "        [0,1,0,0],\n",
    "        [1,1,0,0]]\n",
    "islandPerimeter(grid)"
   ]
  },
  {
   "cell_type": "markdown",
   "metadata": {},
   "source": [
    "## 3. 无重复字符的最长子串\n",
    "给定一个字符串，找出不含有重复字符的最长子串的长度。\n",
    "\n",
    "示例：\n",
    "\n",
    "给定`\"abcabcbb\"`，没有重复字符的最长子串是`\"abc\"`，那么长度就是3。\n",
    "\n",
    "给定`\"bbbbb\"`，最长的子串就是`\"b\"`，长度是1。\n",
    "\n",
    "给定`\"pwwkew\"`，最长子串是`\"wke\"`，长度是3。请注意答案必须是一个子串，`\"pwke\"`是__子序列__而不是__子串__。\n",
    "\n",
    "#### 思路\n",
    "遍历字符串将不同的子串放入一个新list中用于计算长度，每当有重复字母出现时切除重复字母之前的子串，比如eafab，一开始是eaf，遇到第二个a之后就要切除ea，变成fa，取最大长度即可，由于这里判断长度是在遇到重复字母时，所以在字符串末尾自动加一个重复字母，以便判断所有可能的子串长度。也可以标记子串的start和end来算长度，这样更好一些。"
   ]
  },
  {
   "cell_type": "code",
   "execution_count": null,
   "metadata": {},
   "outputs": [],
   "source": [
    "def lengthOfLongestSubstring(s):\n",
    "    \"\"\"\n",
    "    :type s: str\n",
    "    :rtype: int\n",
    "    \"\"\"\n",
    "    max_count = 0\n",
    "    dic = []\n",
    "    s += s[len(s)-1]\n",
    "    for i in range(len(s)):\n",
    "        if s[i] not in dic:\n",
    "            dic.append(s[i])\n",
    "        else:\n",
    "            max_count = len(dic) if len(dic)>max_count else max_count\n",
    "            index = dic.index(s[i])\n",
    "            dic = dic[index+1:]\n",
    "            dic.append(s[i])\n",
    "    print(max_count)\n",
    "\n",
    "s = 'ccab'\n",
    "lengthOfLongestSubstring(s)"
   ]
  },
  {
   "cell_type": "markdown",
   "metadata": {},
   "source": [
    "## 36. 有效的数独\n",
    "判断一个 9x9 的数独是否有效。只需要根据以下规则，验证已经填入的数字是否有效即可。\n",
    "\n",
    "数字 1-9 在每一行只能出现一次。\n",
    "数字 1-9 在每一列只能出现一次。\n",
    "数字 1-9 在每一个以粗实线分隔的 3x3 宫内只能出现一次。  \n",
    "![](https://upload.wikimedia.org/wikipedia/commons/thumb/f/ff/Sudoku-by-L2G-20050714.svg/250px-Sudoku-by-L2G-20050714.svg.png)  \n",
    "数独部分空格内已填入了数字，空白格用 '.' 表示。"
   ]
  },
  {
   "cell_type": "code",
   "execution_count": 95,
   "metadata": {
    "scrolled": true
   },
   "outputs": [
    {
     "name": "stdout",
     "output_type": "stream",
     "text": [
      "False\n"
     ]
    }
   ],
   "source": [
    "def isValidSudoku(board):\n",
    "    \"\"\"\n",
    "    :type board: List[List[str]]\n",
    "    :rtype: bool\n",
    "    \"\"\"\n",
    "    \n",
    "    for i in range(9):\n",
    "        #行\n",
    "        dic = {}\n",
    "        for num in board[i]:\n",
    "            if num in dic and num != '.':\n",
    "                return False\n",
    "            else:\n",
    "                dic[num] = 1\n",
    "                \n",
    "        #列\n",
    "        dic = {}\n",
    "        for j in range(9):\n",
    "            if board[j][i] in dic and board[j][i] != '.':\n",
    "                return False\n",
    "            else:\n",
    "                dic[board[j][i]] = 1\n",
    "                \n",
    "        # 3*3\n",
    "        dic = {}\n",
    "        yu = (i) % 3\n",
    "#         print(type(yu))\n",
    "        zheng = int((i) / 3)\n",
    "#         print(type(zheng))\n",
    "        for j in range(zheng*3,zheng*3+3):\n",
    "            for k in range(yu*3,yu*3+3):\n",
    "                if board[j][k] in dic and board[j][k] != '.':\n",
    "                    return False\n",
    "                else:\n",
    "                    dic[board[j][k]] = 1\n",
    "        \n",
    "    return True\n",
    "\n",
    "dic=[\n",
    "  [\"5\",\"3\",\".\",\".\",\"7\",\".\",\".\",\".\",\".\"],\n",
    "  [\"6\",\".\",\".\",\"1\",\"9\",\"5\",\".\",\".\",\".\"],\n",
    "  [\".\",\"5\",\"8\",\".\",\".\",\".\",\".\",\"6\",\".\"],\n",
    "  [\"8\",\".\",\".\",\".\",\"6\",\".\",\".\",\".\",\"3\"],\n",
    "  [\"4\",\".\",\".\",\"8\",\".\",\"3\",\".\",\".\",\"1\"],\n",
    "  [\"7\",\".\",\".\",\".\",\"2\",\".\",\".\",\".\",\"6\"],\n",
    "  [\".\",\"6\",\".\",\".\",\".\",\".\",\"2\",\"8\",\".\"],\n",
    "  [\".\",\".\",\".\",\"4\",\"1\",\"9\",\".\",\".\",\"5\"],\n",
    "  [\".\",\".\",\".\",\".\",\"8\",\".\",\".\",\"7\",\"9\"]\n",
    "]\n",
    "print(isValidSudoku(dic))"
   ]
  },
  {
   "cell_type": "markdown",
   "metadata": {},
   "source": [
    "## 49. 字母异位词分组\n",
    "给定一个字符串数组，将字母异位词组合在一起。字母异位词指字母相同，但排列不同的字符串。  \n",
    "__示例：__\n",
    "```\n",
    "输入: [\"eat\", \"tea\", \"tan\", \"ate\", \"nat\", \"bat\"],\n",
    "输出:\n",
    "[\n",
    "  [\"ate\",\"eat\",\"tea\"],\n",
    "  [\"nat\",\"tan\"],\n",
    "  [\"bat\"]\n",
    "]\n",
    "```"
   ]
  },
  {
   "cell_type": "code",
   "execution_count": 34,
   "metadata": {},
   "outputs": [
    {
     "name": "stdout",
     "output_type": "stream",
     "text": [
      "[['eat', 'tea', 'ate'], ['tan', 'nat'], ['bat']]\n"
     ]
    }
   ],
   "source": [
    "## solution1\n",
    "def groupAnagrams(strs):\n",
    "    \"\"\"\n",
    "    :type strs: List[str]\n",
    "    :rtype: List[List[str]]\n",
    "    \"\"\"\n",
    "    if strs == []:\n",
    "        return strs\n",
    "    return_list  = []\n",
    "    dic = {}\n",
    "    for words in strs:\n",
    "        if ''.join(sorted(words)) not in dic:\n",
    "            dic[''.join(sorted(words))] = len(dic)\n",
    "            return_list.append([])\n",
    "            return_list[dic[''.join(sorted(words))]].append(words)\n",
    "        else:\n",
    "            return_list[dic[''.join(sorted(words))]].append(words)\n",
    "    print(return_list)\n",
    "    \n",
    "strs = [\"eat\", \"tea\", \"tan\", \"ate\", \"nat\", \"bat\"]\n",
    "groupAnagrams(strs)            "
   ]
  },
  {
   "cell_type": "code",
   "execution_count": null,
   "metadata": {},
   "outputs": [],
   "source": [
    "## solution2\n",
    "class Solution:\n",
    "\n",
    "    # 坑1：for 循环内部不能修改迭代值\n",
    "    # 坑2: 可变类型包括dict,list都不可以作为字典的key，而原子类型以及tuple则可以\n",
    "    # tips: list(dic.values())\n",
    "    def groupAnagrams(self, strs):\n",
    "        \"\"\"\n",
    "        :type strs: List[str]\n",
    "        :rtype: List[List[str]]\n",
    "        \"\"\"\n",
    "        dic = {}\n",
    "        for x in strs:\n",
    "            sorted_x = \"\".join(sorted(x))\n",
    "            if sorted_x in dic:\n",
    "                dic[sorted_x].append(x)\n",
    "            else:\n",
    "                dic[sorted_x] = [x]\n",
    "        \n",
    "        return list(dic.values())"
   ]
  }
 ],
 "metadata": {
  "kernelspec": {
   "display_name": "Python 3",
   "language": "python",
   "name": "python3"
  },
  "language_info": {
   "codemirror_mode": {
    "name": "ipython",
    "version": 3
   },
   "file_extension": ".py",
   "mimetype": "text/x-python",
   "name": "python",
   "nbconvert_exporter": "python",
   "pygments_lexer": "ipython3",
   "version": "3.6.5"
  }
 },
 "nbformat": 4,
 "nbformat_minor": 2
}
